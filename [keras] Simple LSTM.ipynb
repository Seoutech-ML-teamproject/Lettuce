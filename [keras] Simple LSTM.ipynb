{
 "cells": [
  {
   "cell_type": "markdown",
   "id": "a2bcba5f-002e-4f49-9622-ada6117faf0a",
   "metadata": {},
   "source": [
    "## Import"
   ]
  },
  {
   "cell_type": "code",
   "execution_count": 5,
   "id": "2b0d9b68-7102-4eca-9543-3b9b8acafc6e",
   "metadata": {},
   "outputs": [
    {
     "name": "stderr",
     "output_type": "stream",
     "text": [
      "C:\\ProgramData\\Anaconda3\\envs\\tensorflow\\lib\\site-packages\\tqdm\\auto.py:22: TqdmWarning: IProgress not found. Please update jupyter and ipywidgets. See https://ipywidgets.readthedocs.io/en/stable/user_install.html\n",
      "  from .autonotebook import tqdm as notebook_tqdm\n"
     ]
    }
   ],
   "source": [
    "import random\n",
    "import pandas as pd\n",
    "import numpy as np\n",
    "import os\n",
    "import glob\n",
    "\n",
    "import tensorflow as tf\n",
    "\n",
    "\n",
    "from tqdm.auto import tqdm\n",
    "\n",
    "# import warnings\n",
    "# warnings.filterwarnings(action='ignore') "
   ]
  },
  {
   "cell_type": "markdown",
   "id": "fc7df3f2-62d0-4499-a46e-47d01699def0",
   "metadata": {},
   "source": [
    "## Hyperparameter Setting"
   ]
  },
  {
   "cell_type": "code",
   "execution_count": 6,
   "id": "c3367399-9798-4e38-967b-fd2320b9a2b2",
   "metadata": {},
   "outputs": [],
   "source": [
    "CFG = {\n",
    "    'EPOCHS':30,\n",
    "    'LEARNING_RATE':1e-3,\n",
    "    'BATCH_SIZE':16,\n",
    "    'SEED':41\n",
    "}"
   ]
  },
  {
   "cell_type": "markdown",
   "id": "4254e860-ff82-43ba-bfa3-fcee4eb3ddbd",
   "metadata": {},
   "source": [
    "## Fixed RandomSeed"
   ]
  },
  {
   "cell_type": "code",
   "execution_count": 7,
   "id": "101a714b-71b6-4475-a4ce-fa5f98bc2731",
   "metadata": {},
   "outputs": [],
   "source": [
    "def seed_everything(seed):\n",
    "    random.seed(seed)\n",
    "    os.environ['PYTHONHASHSEED'] = str(seed)\n",
    "    np.random.seed(seed)\n",
    "    tf.random.set_seed(seed)\n",
    "\n",
    "seed_everything(CFG['SEED']) # Seed 고정"
   ]
  },
  {
   "cell_type": "markdown",
   "id": "05a4172e-5791-446f-9616-35c09d8bf25a",
   "metadata": {},
   "source": [
    "## Data Pre-processing"
   ]
  },
  {
   "cell_type": "code",
   "execution_count": 8,
   "id": "a62c78cd-4f40-4e98-b8a6-1b6f1d906b4d",
   "metadata": {},
   "outputs": [],
   "source": [
    "all_input_list = sorted(glob.glob('./data/train_input/*.csv'))\n",
    "all_target_list = sorted(glob.glob('./data/train_target/*.csv'))"
   ]
  },
  {
   "cell_type": "code",
   "execution_count": 9,
   "id": "a99a2ef1-ba9d-45b1-9581-0bcc82e96b69",
   "metadata": {},
   "outputs": [],
   "source": [
    "train_input_list = all_input_list[:25]\n",
    "train_target_list = all_target_list[:25]\n",
    "\n",
    "val_input_list = all_input_list[25:]\n",
    "val_target_list = all_target_list[25:]"
   ]
  },
  {
   "cell_type": "code",
   "execution_count": 10,
   "id": "d2a37be2",
   "metadata": {},
   "outputs": [],
   "source": [
    "df_val_input = pd.concat(map(pd.read_csv, val_input_list))\n",
    "df_val_target= pd.concat(map(pd.read_csv, val_target_list))"
   ]
  },
  {
   "cell_type": "markdown",
   "id": "ac27ed36-8031-47a7-bd0d-a913513f2e8e",
   "metadata": {},
   "source": [
    "## DataGenerator"
   ]
  },
  {
   "cell_type": "code",
   "execution_count": 58,
   "id": "dbdb1d2d",
   "metadata": {},
   "outputs": [
    {
     "data": {
      "text/plain": [
       "array([[0, '00:00', 25.30000013, ..., 0.0, 0.0, 0.0],\n",
       "       [0, '01:00', 25.68035718, ..., 0.0, 0.0, 0.0],\n",
       "       [0, '02:00', 25.27333349, ..., 0.0, 0.0, 0.0],\n",
       "       ...,\n",
       "       [27, '21:00', 27.3949999491373, ..., 21155.5824999999, 0.0,\n",
       "        159289.1798999999],\n",
       "       [27, '22:00', 27.9399998346964, ..., 21155.5824999999, 0.0,\n",
       "        159289.1798999999],\n",
       "       [27, '23:00', 28.1700001398722, ..., 21155.5824999999, 0.0,\n",
       "        159289.1798999999]], dtype=object)"
      ]
     },
     "execution_count": 58,
     "metadata": {},
     "output_type": "execute_result"
    }
   ],
   "source": [
    "df_train_input = pd.concat(map(pd.read_csv, train_input_list))\n",
    "#df_train_input.pop('obs_time')\n",
    "df_train_input.head()\n",
    "df_train_input.to_numpy()"
   ]
  },
  {
   "cell_type": "code",
   "execution_count": 59,
   "id": "16fd60a5-24e2-4539-bfd0-1c374a641699",
   "metadata": {},
   "outputs": [],
   "source": [
    "def load_datasets(input_paths, target_paths):\n",
    "    df_train_input = pd.concat(map(pd.read_csv, input_paths))\n",
    "    df_train_input.pop('obs_time')\n",
    "    df_train_target = pd.concat(map(pd.read_csv, target_paths))\n",
    "    df_train_target.pop('DAT')\n",
    "    return tf.keras.utils.timeseries_dataset_from_array(data=df_train_input.to_numpy(),\n",
    "                                                        targets=df_train_target.to_numpy(),\n",
    "                                                        sequence_length=24,\n",
    "                                                        sequence_stride=24,\n",
    "                                                        sampling_rate=1,\n",
    "                                                        batch_size=CFG['BATCH_SIZE'])"
   ]
  },
  {
   "cell_type": "code",
   "execution_count": 60,
   "id": "9d880481-1965-499d-9caa-fdfa8526f789",
   "metadata": {},
   "outputs": [],
   "source": [
    "train_dataset = load_datasets(train_input_list,train_target_list)\n",
    "val_dataset = load_datasets(val_input_list,val_target_list)"
   ]
  },
  {
   "cell_type": "markdown",
   "id": "39962463-032f-490a-a76d-c03991795f38",
   "metadata": {},
   "source": [
    "## Model Define"
   ]
  },
  {
   "cell_type": "code",
   "execution_count": 61,
   "id": "3664c4d0-f1f2-4971-9090-4d6ee66309ae",
   "metadata": {},
   "outputs": [
    {
     "name": "stdout",
     "output_type": "stream",
     "text": [
      "Model: \"sequential_8\"\n",
      "_________________________________________________________________\n",
      " Layer (type)                Output Shape              Param #   \n",
      "=================================================================\n",
      " lstm_8 (LSTM)               (None, 24, 256)           278528    \n",
      "                                                                 \n",
      " time_distributed_8 (TimeDis  (None, 24, 1)            257       \n",
      " tributed)                                                       \n",
      "                                                                 \n",
      "=================================================================\n",
      "Total params: 278,785\n",
      "Trainable params: 278,785\n",
      "Non-trainable params: 0\n",
      "_________________________________________________________________\n"
     ]
    }
   ],
   "source": [
    "model = tf.keras.models.Sequential([\n",
    "    tf.keras.layers.LSTM(256,input_shape=[24,15],return_sequences=True),\n",
    "    tf.keras.layers.TimeDistributed(tf.keras.layers.Dense(128))\n",
    "])\n",
    "model.summary()"
   ]
  },
  {
   "cell_type": "markdown",
   "id": "122af0aa-a1fd-4595-9488-35761e3cb596",
   "metadata": {},
   "source": [
    "## Train"
   ]
  },
  {
   "cell_type": "code",
   "execution_count": 63,
   "id": "a17df6b3-16c9-44dd-b0fd-ffb501fee749",
   "metadata": {},
   "outputs": [
    {
     "name": "stdout",
     "output_type": "stream",
     "text": [
      "Epoch 1/30\n",
      "2/2 [==============================] - 2s 529ms/step - loss: 27.8939 - val_loss: 24.5548\n",
      "Epoch 2/30\n",
      "2/2 [==============================] - 0s 215ms/step - loss: 27.8699 - val_loss: 24.5123\n",
      "Epoch 3/30\n",
      "2/2 [==============================] - 0s 215ms/step - loss: 27.8560 - val_loss: 24.4873\n",
      "Epoch 4/30\n",
      "2/2 [==============================] - 0s 218ms/step - loss: 27.8448 - val_loss: 24.5017\n",
      "Epoch 5/30\n",
      "2/2 [==============================] - 0s 215ms/step - loss: 27.8334 - val_loss: 24.4631\n",
      "Epoch 6/30\n",
      "2/2 [==============================] - 0s 213ms/step - loss: 27.8231 - val_loss: 24.4270\n",
      "Epoch 7/30\n",
      "2/2 [==============================] - 0s 215ms/step - loss: 27.8135 - val_loss: 24.3890\n",
      "Epoch 8/30\n",
      "2/2 [==============================] - 0s 215ms/step - loss: 27.7994 - val_loss: 24.3396\n",
      "Epoch 9/30\n",
      "2/2 [==============================] - 0s 218ms/step - loss: 27.7833 - val_loss: 24.2804\n",
      "Epoch 10/30\n",
      "2/2 [==============================] - 0s 215ms/step - loss: 27.7748 - val_loss: 24.2436\n",
      "Epoch 11/30\n",
      "2/2 [==============================] - 0s 215ms/step - loss: 27.7662 - val_loss: 24.2137\n",
      "Epoch 12/30\n",
      "2/2 [==============================] - 0s 214ms/step - loss: 27.7533 - val_loss: 24.1845\n",
      "Epoch 13/30\n",
      "2/2 [==============================] - 0s 215ms/step - loss: 27.7404 - val_loss: 24.1534\n",
      "Epoch 14/30\n",
      "2/2 [==============================] - 0s 214ms/step - loss: 27.7270 - val_loss: 24.1224\n",
      "Epoch 15/30\n",
      "2/2 [==============================] - 0s 212ms/step - loss: 27.7183 - val_loss: 24.0919\n",
      "Epoch 16/30\n",
      "2/2 [==============================] - 0s 216ms/step - loss: 27.7103 - val_loss: 24.0695\n",
      "Epoch 17/30\n",
      "2/2 [==============================] - 0s 254ms/step - loss: 27.7010 - val_loss: 24.0479\n",
      "Epoch 18/30\n",
      "2/2 [==============================] - 0s 215ms/step - loss: 27.6938 - val_loss: 24.0222\n",
      "Epoch 19/30\n",
      "2/2 [==============================] - 0s 216ms/step - loss: 27.6853 - val_loss: 23.9950\n",
      "Epoch 20/30\n",
      "2/2 [==============================] - 0s 210ms/step - loss: 27.6744 - val_loss: 23.9661\n",
      "Epoch 21/30\n",
      "2/2 [==============================] - 0s 212ms/step - loss: 27.6657 - val_loss: 23.9246\n",
      "Epoch 22/30\n",
      "2/2 [==============================] - 0s 212ms/step - loss: 27.6545 - val_loss: 23.8876\n",
      "Epoch 23/30\n",
      "2/2 [==============================] - 0s 216ms/step - loss: 27.6450 - val_loss: 23.8533\n",
      "Epoch 24/30\n",
      "2/2 [==============================] - 0s 217ms/step - loss: 27.6356 - val_loss: 23.8172\n",
      "Epoch 25/30\n",
      "2/2 [==============================] - 0s 218ms/step - loss: 27.6248 - val_loss: 23.7814\n",
      "Epoch 26/30\n",
      "2/2 [==============================] - 0s 213ms/step - loss: 27.6141 - val_loss: 23.7422\n",
      "Epoch 27/30\n",
      "2/2 [==============================] - 0s 213ms/step - loss: 27.6033 - val_loss: 23.7065\n",
      "Epoch 28/30\n",
      "2/2 [==============================] - 0s 221ms/step - loss: 27.5933 - val_loss: 23.6794\n",
      "Epoch 29/30\n",
      "2/2 [==============================] - 0s 213ms/step - loss: 27.5834 - val_loss: 23.6558\n",
      "Epoch 30/30\n",
      "2/2 [==============================] - 0s 224ms/step - loss: 27.5734 - val_loss: 23.6339\n"
     ]
    },
    {
     "data": {
      "text/plain": [
       "<keras.callbacks.History at 0x1ee155ff340>"
      ]
     },
     "execution_count": 63,
     "metadata": {},
     "output_type": "execute_result"
    }
   ],
   "source": [
    "opt = tf.keras.optimizers.Adam(learning_rate=CFG['LEARNING_RATE'])\n",
    "model.compile(optimizer=opt, loss=tf.keras.losses.MeanAbsoluteError())\n",
    "model.fit(train_dataset, epochs=CFG['EPOCHS'], validation_data=val_dataset)"
   ]
  },
  {
   "cell_type": "code",
   "execution_count": null,
   "id": "a24d422f-6e6d-4659-a6f8-c17e7f6761ba",
   "metadata": {},
   "outputs": [],
   "source": []
  },
  {
   "cell_type": "markdown",
   "id": "51da39f9-904f-4abd-a7d2-cdf29c4a6c24",
   "metadata": {},
   "source": [
    "## Run!!"
   ]
  },
  {
   "cell_type": "code",
   "execution_count": 12,
   "id": "86142d9a-68b7-4d04-8423-49d28025411d",
   "metadata": {
    "tags": []
   },
   "outputs": [
    {
     "name": "stdout",
     "output_type": "stream",
     "text": [
      "Train Loss : [34.78066] Valid Loss : [27.56516]\n",
      "Train Loss : [32.57272] Valid Loss : [26.10837]\n",
      "Train Loss : [31.45994] Valid Loss : [25.48141]\n",
      "Train Loss : [31.04932] Valid Loss : [25.18256]\n",
      "Train Loss : [30.56838] Valid Loss : [24.92300]\n",
      "Train Loss : [30.50989] Valid Loss : [24.88433]\n",
      "Train Loss : [30.34756] Valid Loss : [24.77411]\n",
      "Train Loss : [30.34128] Valid Loss : [24.76932]\n",
      "Train Loss : [30.35129] Valid Loss : [24.75595]\n",
      "Train Loss : [30.35481] Valid Loss : [24.74844]\n",
      "Train Loss : [30.17720] Valid Loss : [24.74417]\n",
      "Train Loss : [30.21044] Valid Loss : [24.74626]\n",
      "Train Loss : [30.24884] Valid Loss : [24.74541]\n",
      "Train Loss : [30.28647] Valid Loss : [24.74356]\n",
      "Train Loss : [30.27907] Valid Loss : [24.74664]\n",
      "Train Loss : [30.25056] Valid Loss : [24.75266]\n",
      "Train Loss : [30.30515] Valid Loss : [24.75043]\n",
      "Epoch    17: reducing learning rate of group 0 to 5.0000e-04.\n",
      "Train Loss : [30.22714] Valid Loss : [24.75100]\n",
      "Train Loss : [30.25020] Valid Loss : [24.74855]\n",
      "Train Loss : [30.24410] Valid Loss : [24.75415]\n",
      "Epoch    20: reducing learning rate of group 0 to 2.5000e-04.\n",
      "Train Loss : [30.23204] Valid Loss : [24.75485]\n",
      "Train Loss : [30.26153] Valid Loss : [24.75146]\n",
      "Train Loss : [30.26039] Valid Loss : [24.75074]\n",
      "Epoch    23: reducing learning rate of group 0 to 1.2500e-04.\n",
      "Train Loss : [30.25630] Valid Loss : [24.75097]\n",
      "Train Loss : [30.28029] Valid Loss : [24.74965]\n",
      "Train Loss : [30.24712] Valid Loss : [24.74976]\n",
      "Epoch    26: reducing learning rate of group 0 to 6.2500e-05.\n",
      "Train Loss : [30.22280] Valid Loss : [24.74976]\n",
      "Train Loss : [30.11411] Valid Loss : [24.75036]\n",
      "Train Loss : [30.18771] Valid Loss : [24.74973]\n",
      "Epoch    29: reducing learning rate of group 0 to 3.1250e-05.\n",
      "Train Loss : [30.20261] Valid Loss : [24.74942]\n"
     ]
    }
   ],
   "source": []
  },
  {
   "cell_type": "markdown",
   "id": "a93c88c8-95f2-4eae-a9ff-c81becba0d97",
   "metadata": {},
   "source": [
    "## Inference"
   ]
  },
  {
   "cell_type": "code",
   "execution_count": 13,
   "id": "f46d7d60-38d7-44d6-82f2-836738b5a85e",
   "metadata": {},
   "outputs": [],
   "source": [
    "test_input_list = sorted(glob.glob('./test_input/*.csv'))\n",
    "test_target_list = sorted(glob.glob('./test_target/*.csv'))"
   ]
  },
  {
   "cell_type": "code",
   "execution_count": 14,
   "id": "ad1defba-fdc0-4fe4-8c59-36d338851f15",
   "metadata": {},
   "outputs": [],
   "source": [
    "def inference_per_case(model, test_loader, test_path, device):\n",
    "    model.to(device)\n",
    "    model.eval()\n",
    "    pred_list = []\n",
    "    with torch.no_grad():\n",
    "        for X in iter(test_loader):\n",
    "            X = X.float().to(device)\n",
    "            \n",
    "            model_pred = model(X)\n",
    "            \n",
    "            model_pred = model_pred.cpu().numpy().reshape(-1).tolist()\n",
    "            \n",
    "            pred_list += model_pred\n",
    "    \n",
    "    submit_df = pd.read_csv(test_path)\n",
    "    submit_df['predicted_weight_g'] = pred_list\n",
    "    submit_df.to_csv(test_path, index=False)"
   ]
  },
  {
   "cell_type": "code",
   "execution_count": 15,
   "id": "c88e68cb-dec1-439d-9363-03b817230bd1",
   "metadata": {},
   "outputs": [
    {
     "name": "stdout",
     "output_type": "stream",
     "text": [
      "Data Pre-processing..\n"
     ]
    },
    {
     "data": {
      "application/vnd.jupyter.widget-view+json": {
       "model_id": "27e863a41f2b45619e12fb01f1f4eb9a",
       "version_major": 2,
       "version_minor": 0
      },
      "text/plain": [
       "0it [00:00, ?it/s]"
      ]
     },
     "metadata": {},
     "output_type": "display_data"
    },
    {
     "name": "stdout",
     "output_type": "stream",
     "text": [
      "Done.\n",
      "Data Pre-processing..\n"
     ]
    },
    {
     "data": {
      "application/vnd.jupyter.widget-view+json": {
       "model_id": "f13de170f8a64e7f98c2c53be43d21d4",
       "version_major": 2,
       "version_minor": 0
      },
      "text/plain": [
       "0it [00:00, ?it/s]"
      ]
     },
     "metadata": {},
     "output_type": "display_data"
    },
    {
     "name": "stdout",
     "output_type": "stream",
     "text": [
      "Done.\n",
      "Data Pre-processing..\n"
     ]
    },
    {
     "data": {
      "application/vnd.jupyter.widget-view+json": {
       "model_id": "bf4639a98b3a4529a31be3fcaed5160a",
       "version_major": 2,
       "version_minor": 0
      },
      "text/plain": [
       "0it [00:00, ?it/s]"
      ]
     },
     "metadata": {},
     "output_type": "display_data"
    },
    {
     "name": "stdout",
     "output_type": "stream",
     "text": [
      "Done.\n",
      "Data Pre-processing..\n"
     ]
    },
    {
     "data": {
      "application/vnd.jupyter.widget-view+json": {
       "model_id": "13d064c281d04756a88fa7f4e7550394",
       "version_major": 2,
       "version_minor": 0
      },
      "text/plain": [
       "0it [00:00, ?it/s]"
      ]
     },
     "metadata": {},
     "output_type": "display_data"
    },
    {
     "name": "stdout",
     "output_type": "stream",
     "text": [
      "Done.\n",
      "Data Pre-processing..\n"
     ]
    },
    {
     "data": {
      "application/vnd.jupyter.widget-view+json": {
       "model_id": "c145a462498d40cfa3d8751d8d41b67d",
       "version_major": 2,
       "version_minor": 0
      },
      "text/plain": [
       "0it [00:00, ?it/s]"
      ]
     },
     "metadata": {},
     "output_type": "display_data"
    },
    {
     "name": "stdout",
     "output_type": "stream",
     "text": [
      "Done.\n"
     ]
    }
   ],
   "source": [
    "for test_input_path, test_target_path in zip(test_input_list, test_target_list):\n",
    "    test_dataset = CustomDataset([test_input_path], [test_target_path], True)\n",
    "    test_loader = DataLoader(test_dataset, batch_size = CFG['BATCH_SIZE'], shuffle=False, num_workers=0)\n",
    "    inference_per_case(best_model, test_loader, test_target_path, device)"
   ]
  },
  {
   "cell_type": "markdown",
   "id": "aae208a0-548d-4af6-9798-0e247543b301",
   "metadata": {},
   "source": [
    "## Submission"
   ]
  },
  {
   "cell_type": "code",
   "execution_count": 16,
   "id": "173e281a-7a9f-4878-b406-4419698f7e0c",
   "metadata": {},
   "outputs": [],
   "source": [
    "import zipfile\n",
    "os.chdir(\"./test_target/\")\n",
    "submission = zipfile.ZipFile(\"../submission.zip\", 'w')\n",
    "for path in test_target_list:\n",
    "    path = path.split('/')[-1]\n",
    "    submission.write(path)\n",
    "submission.close()"
   ]
  }
 ],
 "metadata": {
  "kernelspec": {
   "display_name": "TensorFlow",
   "language": "python",
   "name": "tensorflow"
  },
  "language_info": {
   "codemirror_mode": {
    "name": "ipython",
    "version": 3
   },
   "file_extension": ".py",
   "mimetype": "text/x-python",
   "name": "python",
   "nbconvert_exporter": "python",
   "pygments_lexer": "ipython3",
   "version": "3.8.15"
  }
 },
 "nbformat": 4,
 "nbformat_minor": 5
}
