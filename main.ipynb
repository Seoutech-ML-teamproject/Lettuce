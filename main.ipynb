{
 "cells": [
  {
   "cell_type": "code",
   "execution_count": 32,
   "metadata": {
    "executionInfo": {
     "elapsed": 3,
     "status": "ok",
     "timestamp": 1670559649468,
     "user": {
      "displayName": "서민재",
      "userId": "10949873946560451819"
     },
     "user_tz": -540
    },
    "id": "nAuwGFB40yyp"
   },
   "outputs": [],
   "source": [
    "import random\n",
    "import pandas as pd\n",
    "import numpy as np\n",
    "import os\n",
    "import glob\n",
    "import tensorflow as tf\n",
    "from tensorflow.data import Dataset\n",
    "import tensorflow.keras as keras\n",
    "from tqdm.auto import tqdm\n",
    "from sklearn.cluster import KMeans\n",
    "import matplotlib.pyplot as plt\n",
    "from matplotlib.ticker import LinearLocator\n",
    "from sklearn.utils import shuffle\n",
    "from sklearn.ensemble import RandomForestRegressor\n",
    "from sklearn.model_selection import GridSearchCV\n",
    "from sklearn.linear_model import LinearRegression\n",
    "from sklearn.linear_model import Lasso\n",
    "from sklearn.pipeline import make_pipeline\n",
    "from sklearn.ensemble import GradientBoostingRegressor\n",
    "from sklearn.ensemble import AdaBoostRegressor \n",
    "datapath='./drive/MyDrive/project'"
   ]
  },
  {
   "cell_type": "code",
   "execution_count": 2,
   "metadata": {
    "executionInfo": {
     "elapsed": 905,
     "status": "ok",
     "timestamp": 1670558472422,
     "user": {
      "displayName": "서민재",
      "userId": "10949873946560451819"
     },
     "user_tz": -540
    },
    "id": "eJvcwrvv1Apb"
   },
   "outputs": [],
   "source": [
    "all_input_list = sorted(glob.glob(datapath+'/train_input/*.csv'))\n",
    "all_target_list = sorted(glob.glob(datapath+'/train_target/*.csv'))\n",
    "train_input_list = all_input_list[:25]\n",
    "train_target_list = all_target_list[:25]\n",
    "val_input_list = all_input_list[25:]\n",
    "val_target_list = all_target_list[25:]"
   ]
  },
  {
   "cell_type": "markdown",
   "metadata": {
    "id": "bxRnL10ijtah"
   },
   "source": [
    "<h2>데이터 fetch, Min-Max scaling, concat </h2>"
   ]
  },
  {
   "cell_type": "code",
   "execution_count": 38,
   "metadata": {
    "executionInfo": {
     "elapsed": 358,
     "status": "ok",
     "timestamp": 1670559815936,
     "user": {
      "displayName": "서민재",
      "userId": "10949873946560451819"
     },
     "user_tz": -540
    },
    "id": "7t_jaNqy1a26"
   },
   "outputs": [],
   "source": [
    "\n",
    "def CustomDataset(input_paths, target_paths,tradition=False):\n",
    "  data_list = []\n",
    "  label_list = []\n",
    "  input_data=pd.DataFrame()\n",
    "  target_data=pd.DataFrame()\n",
    "  print('Data Pre-processing..')\n",
    "  for input_path, target_path in tqdm(zip(input_paths, target_paths)):\n",
    "    input_df = pd.read_csv(input_path)\n",
    "    target_df = pd.read_csv(target_path)\n",
    "    input_df = input_df.drop(columns=['obs_time'])          \n",
    "    input_length = int(len(input_df)/24)\n",
    "    target_length = int(len(target_df))\n",
    "    for idx in range(target_length):\n",
    "      temp = input_df[24*idx:24*(idx+1)]\n",
    "      for i in [6,8,10,12,14]:\n",
    "        if temp.iloc[23][i]==0.0:\n",
    "          continue\n",
    "        else:\n",
    "          temp.iloc[:,i]=temp.iloc[:,i]/temp.iloc[23][i]\n",
    "      input_df[24*idx:24*(idx+1)]=temp\n",
    "    input_data=pd.concat([input_data,input_df])\n",
    "    target_data=pd.concat([target_data,target_df])\n",
    "  print(input_data.shape)\n",
    "  min=np.array(input_data.min()).reshape(1,-1)\n",
    "  max=np.array(input_data.max()).reshape(1,-1)\n",
    "  for input_path, target_path in tqdm(zip(input_paths, target_paths)):\n",
    "    input_df = pd.read_csv(input_path)\n",
    "    target_df = pd.read_csv(target_path)\n",
    "    input_df = input_df.drop(columns=['obs_time'])          \n",
    "    input_length = int(len(input_df)/24)\n",
    "    target_length = int(len(target_df))\n",
    "    for idx in range(target_length):\n",
    "      time_series = input_df[24*idx:24*(idx+1)].values\n",
    "      for i in [6,8,10,12,14]:\n",
    "        if time_series[-1][i]==0.0:\n",
    "          continue\n",
    "        else:\n",
    "          time_series[:,i]=time_series[:,i]/time_series[-1][i]\n",
    "      data_list.append(tf.convert_to_tensor((time_series-min)/(max-min)))\n",
    "    for label in target_df[\"predicted_weight_g\"]:\n",
    "      label_list.append(label)\n",
    "  if tradition:\n",
    "    return ((input_data-min)/(max-min)),target_data\n",
    "  else:\n",
    "    return data_list,label_list\n",
    "\n",
    "  "
   ]
  },
  {
   "cell_type": "code",
   "execution_count": null,
   "metadata": {
    "id": "7GrltvUQ2Mv-"
   },
   "outputs": [],
   "source": [
    "#input으로 target의 train의 path, target의 path를 문자열 리스트 형태로 넣습니다.\n",
    "data,target=CustomDataset(train_input_list,train_target_list)"
   ]
  },
  {
   "cell_type": "code",
   "execution_count": null,
   "metadata": {
    "colab": {
     "base_uri": "https://localhost:8080/"
    },
    "executionInfo": {
     "elapsed": 10,
     "status": "ok",
     "timestamp": 1670337135056,
     "user": {
      "displayName": "서민재",
      "userId": "10949873946560451819"
     },
     "user_tz": -540
    },
    "id": "Jhp5QvfEQnDx",
    "outputId": "55019e54-11cf-4c57-bd57-4ac0768c260e"
   },
   "outputs": [
    {
     "data": {
      "text/plain": [
       "TensorShape([700, 24, 15])"
      ]
     },
     "execution_count": 6,
     "metadata": {},
     "output_type": "execute_result"
    }
   ],
   "source": [
    "tf.convert_to_tensor(data).shape #하루치 데이터를 2-D 형태로 넣고, 이이 2D 텐서가 700개 있습니다. "
   ]
  },
  {
   "cell_type": "code",
   "execution_count": 9,
   "metadata": {
    "executionInfo": {
     "elapsed": 4214,
     "status": "ok",
     "timestamp": 1670559125767,
     "user": {
      "displayName": "서민재",
      "userId": "10949873946560451819"
     },
     "user_tz": -540
    },
    "id": "s_9kphDmhMO6"
   },
   "outputs": [],
   "source": [
    "#traditional regression을 위해서 데이터를 하루치로 바꾸었다 \n",
    "def convert_for_Dense(data_list):\n",
    "  data=np.zeros((1,360))\n",
    "  for tensor in data_list:\n",
    "    temp=np.array([])\n",
    "    for time in tensor:\n",
    "      temp=np.hstack([temp,time])\n",
    "    data=np.vstack([data,temp])\n",
    "  data=data[1:]\n",
    "  index = data[:,0]==0\n",
    "  nums=[0]\n",
    "  b=0\n",
    "  for i in range(1,len(index)):\n",
    "    if index[i]==True:\n",
    "      b=b+1\n",
    "      nums.append(b)\n",
    "    else:\n",
    "      nums.append(b)\n",
    "  nums = np.array(nums).reshape(-1,1)\n",
    "  data=np.hstack([data,nums])\n",
    "  return data\n",
    "data_for_dense = convert_for_Dense(data)[:,:360]"
   ]
  },
  {
   "cell_type": "markdown",
   "metadata": {
    "id": "S7IbonjeSNud"
   },
   "source": [
    "<h1>grid search를 통한 성능측정</h1>\n",
    "<h3>RadnomForest</h3?"
   ]
  },
  {
   "cell_type": "code",
   "execution_count": 53,
   "metadata": {
    "executionInfo": {
     "elapsed": 529,
     "status": "ok",
     "timestamp": 1670560359269,
     "user": {
      "displayName": "서민재",
      "userId": "10949873946560451819"
     },
     "user_tz": -540
    },
    "id": "A74UK8NgmOZi"
   },
   "outputs": [],
   "source": [
    "# RandomForest, Lasso, GradientBoosting, AdaBoosting\n",
    "param_rf = {'n_estimators':[50,100,150,200],'n_jobs':[-1],'max_depth':[1,2,3,4]}\n",
    "grid_rf = GridSearchCV(RandomForestRegressor(),param_grid=param_rf,cv=5,scoring='r2')\n",
    "grid_rf.fit(data_for_dense,target)"
   ]
  },
  {
   "cell_type": "markdown",
   "metadata": {
    "id": "K9DOt7aDSZy0"
   },
   "source": [
    "<h3>LASSO</h3>"
   ]
  },
  {
   "cell_type": "code",
   "execution_count": null,
   "metadata": {
    "id": "CsHX9ZvMLJEW"
   },
   "outputs": [],
   "source": [
    "param_lasso = {'alpha':[0,0.001,0.01,0.05,0.1,0.5,1,5,10]}\n",
    "grid_lasso = GridSearchCV(Lasso(),param_grid=param_lasso,cv=5,scoring='r2')\n",
    "grid_lasso.fit(data_for_dense,target)"
   ]
  },
  {
   "cell_type": "markdown",
   "metadata": {
    "id": "qZ17RCktSeKw"
   },
   "source": [
    "<h3>AdaBoost</h3>"
   ]
  },
  {
   "cell_type": "code",
   "execution_count": 71,
   "metadata": {
    "colab": {
     "base_uri": "https://localhost:8080/"
    },
    "executionInfo": {
     "elapsed": 283343,
     "status": "ok",
     "timestamp": 1670561636212,
     "user": {
      "displayName": "서민재",
      "userId": "10949873946560451819"
     },
     "user_tz": -540
    },
    "id": "x_YVJIQlMu3V",
    "outputId": "e9bd86bd-763e-4233-8365-938a9ebd8fc2"
   },
   "outputs": [
    {
     "data": {
      "text/plain": [
       "0.6103288922657"
      ]
     },
     "execution_count": 71,
     "metadata": {},
     "output_type": "execute_result"
    }
   ],
   "source": [
    "param_ada = {'n_estimators':[50,100,150],'learning_rate':[0.01,0.05,0.1,0.5,1,2]}\n",
    "grid_ada = GridSearchCV(AdaBoostRegressor(),param_grid=param_ada,cv=5,scoring='r2')\n",
    "grid_ada.fit(data_for_dense,target)"
   ]
  },
  {
   "cell_type": "markdown",
   "metadata": {
    "id": "L5jL4AkVSlbY"
   },
   "source": [
    "<h3>GradientBoost</h3>"
   ]
  },
  {
   "cell_type": "code",
   "execution_count": 73,
   "metadata": {
    "colab": {
     "base_uri": "https://localhost:8080/"
    },
    "executionInfo": {
     "elapsed": 340,
     "status": "ok",
     "timestamp": 1670562283334,
     "user": {
      "displayName": "서민재",
      "userId": "10949873946560451819"
     },
     "user_tz": -540
    },
    "id": "amEq6h_tOHWo",
    "outputId": "dd899bfd-8816-4b0d-979a-254a6c37d40d"
   },
   "outputs": [
    {
     "data": {
      "text/plain": [
       "0.5802909304075492"
      ]
     },
     "execution_count": 73,
     "metadata": {},
     "output_type": "execute_result"
    }
   ],
   "source": [
    "param_gdr = {'n_estimators':[50,100,150],'learning_rate':[0.01,0.05,0.1,0.5,1,2],'max_depth':[1,2,3]}\n",
    "grid_gdr = GridSearchCV(GradientBoostingRegressor(),param_grid=param_gdr,cv=5,scoring='r2')\n",
    "grid_gdr.fit(data_for_dense,target)"
   ]
  },
  {
   "cell_type": "markdown",
   "metadata": {
    "id": "EBzi2WIgS0Q0"
   },
   "source": [
    "<h3>conclusion</h3>"
   ]
  },
  {
   "cell_type": "code",
   "execution_count": 76,
   "metadata": {
    "colab": {
     "base_uri": "https://localhost:8080/"
    },
    "executionInfo": {
     "elapsed": 590,
     "status": "ok",
     "timestamp": 1670562395281,
     "user": {
      "displayName": "서민재",
      "userId": "10949873946560451819"
     },
     "user_tz": -540
    },
    "id": "aAscfdvtPKWb",
    "outputId": "4bc34aac-0f1b-481f-d507-5a5820ffcc52"
   },
   "outputs": [
    {
     "name": "stdout",
     "output_type": "stream",
     "text": [
      "----------------------------------------\n",
      "model: LASSO\n",
      "model_parameters: {'alpha': [0, 0.001, 0.01, 0.05, 0.1, 0.5, 1, 5, 10]}\n",
      "best_score: 0.5068933730226999\n",
      "best_estimator: Lasso(alpha=0.05)\n",
      "----------------------------------------\n",
      "----------------------------------------\n",
      "model: RandomForest\n",
      "model_parameters: {'n_estimators': [50, 100, 150, 200], 'n_jobs': [-1], 'max_depth': [1, 2, 3, 4]}\n",
      "best_score: 0.5824829315169876\n",
      "best_estimator: RandomForestRegressor(max_depth=4, n_estimators=50, n_jobs=-1)\n",
      "----------------------------------------\n",
      "----------------------------------------\n",
      "model: Adaboost\n",
      "model_parameters: {'n_estimators': [50, 100, 150], 'learning_rate': [0.01, 0.05, 0.1, 0.5, 1, 2]}\n",
      "best_score: 0.6103288922657\n",
      "best_estimator: AdaBoostRegressor(learning_rate=0.1, n_estimators=150)\n",
      "----------------------------------------\n",
      "----------------------------------------\n",
      "model: GradientBoost\n",
      "model_parameters: {'n_estimators': [50, 100, 150], 'learning_rate': [0.01, 0.05, 0.1, 0.5, 1, 2], 'max_depth': [1, 2, 3]}\n",
      "best_score: 0.5802909304075492\n",
      "best_estimator: GradientBoostingRegressor(learning_rate=0.05, max_depth=2)\n",
      "----------------------------------------\n"
     ]
    }
   ],
   "source": [
    "for model, name in zip([grid_lasso,grid_rf,grid_ada,grid_gdr],['LASSO','RandomForest','Adaboost','GradientBoost']):\n",
    "  print('----------------------------------------')\n",
    "  print('model:',name)\n",
    "  print('model_parameters:',model.param_grid)\n",
    "  print('best_score:',model.best_score_)\n",
    "  print('best_estimator:',model.best_estimator_)\n",
    "  print('----------------------------------------')"
   ]
  },
  {
   "cell_type": "code",
   "execution_count": null,
   "metadata": {
    "id": "cf9NassWRzAY"
   },
   "outputs": [],
   "source": []
  }
 ],
 "metadata": {
  "colab": {
   "authorship_tag": "ABX9TyPaDTGiVUtQdRpLsDx1xuG7",
   "mount_file_id": "1_zaMuEvZubhoAh9dvPdlM08sOf2hcH4h",
   "provenance": []
  },
  "kernelspec": {
   "display_name": "Python 3 (ipykernel)",
   "language": "python",
   "name": "python3"
  },
  "language_info": {
   "codemirror_mode": {
    "name": "ipython",
    "version": 3
   },
   "file_extension": ".py",
   "mimetype": "text/x-python",
   "name": "python",
   "nbconvert_exporter": "python",
   "pygments_lexer": "ipython3",
   "version": "3.9.7"
  }
 },
 "nbformat": 4,
 "nbformat_minor": 1
}
